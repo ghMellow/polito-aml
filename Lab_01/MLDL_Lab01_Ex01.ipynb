{
  "cells": [
    {
      "cell_type": "markdown",
      "metadata": {
        "id": "AzDBM_v4iMe7"
      },
      "source": [
        "# PyTorch Fundamentals Exercises\n",
        "\n",
        "\n"
      ]
    },
    {
      "cell_type": "markdown",
      "metadata": {
        "id": "__iXqqz-ioUJ"
      },
      "source": [
        "### 2. Create a random tensor with shape `(7, 7)`.\n"
      ]
    },
    {
      "cell_type": "code",
      "execution_count": null,
      "metadata": {
        "id": "6pUq9Dc8i2L7",
        "outputId": "beed2a75-ad7c-494e-897b-df5ecb9e8a6b",
        "colab": {
          "base_uri": "https://localhost:8080/"
        }
      },
      "outputs": [
        {
          "output_type": "execute_result",
          "data": {
            "text/plain": [
              "tensor([[0.6526, 0.4771, 0.1654, 0.2876, 0.1003, 0.6573, 0.6806],\n",
              "        [0.0705, 0.5964, 0.8470, 0.9278, 0.3608, 0.6968, 0.7964],\n",
              "        [0.9739, 0.9959, 0.0638, 0.8995, 0.6263, 0.2387, 0.8961],\n",
              "        [0.1866, 0.8334, 0.8319, 0.6197, 0.3112, 0.0079, 0.5798],\n",
              "        [0.9693, 0.4233, 0.7721, 0.2309, 0.7636, 0.0070, 0.8867],\n",
              "        [0.7664, 0.3575, 0.7299, 0.0401, 0.5027, 0.2754, 0.9336],\n",
              "        [0.4427, 0.9916, 0.3770, 0.4251, 0.8736, 0.2175, 0.9864]])"
            ]
          },
          "metadata": {},
          "execution_count": 2
        }
      ],
      "source": [
        "# Import torch\n",
        "import torch\n",
        "# Create random tensor\n",
        "x_rand = torch.rand(7, 7)\n",
        "x_rand"
      ]
    },
    {
      "cell_type": "markdown",
      "metadata": {
        "id": "9-XxvRLfiqkR"
      },
      "source": [
        "### 3. Perform a matrix multiplication on the tensor from 2 with another random tensor with shape `(1, 7)` (hint: you may have to transpose the second tensor)."
      ]
    },
    {
      "cell_type": "markdown",
      "source": [],
      "metadata": {
        "id": "JoVZ46X4kT8n"
      }
    },
    {
      "cell_type": "code",
      "execution_count": null,
      "metadata": {
        "id": "NcLqR0Sbi_vT",
        "outputId": "e231d792-149b-43ef-a2d6-6261c0ded2f1",
        "colab": {
          "base_uri": "https://localhost:8080/"
        }
      },
      "outputs": [
        {
          "output_type": "execute_result",
          "data": {
            "text/plain": [
              "tensor([[1.8459],\n",
              "        [2.9555],\n",
              "        [3.3008],\n",
              "        [2.5049],\n",
              "        [2.6673],\n",
              "        [2.2192],\n",
              "        [2.9282]])"
            ]
          },
          "metadata": {},
          "execution_count": 3
        }
      ],
      "source": [
        "# Create another random tensor\n",
        "x2_rand = torch.rand(1, 7)\n",
        "\n",
        "# Perform matrix multiplication, x2.T da 1x7 a 7x1 -> 7x7 @ 7x1 -> 7x1\n",
        "x = x_rand @ x2_rand.T\n",
        "x\n"
      ]
    },
    {
      "cell_type": "markdown",
      "metadata": {
        "id": "eiutdKUFiryU"
      },
      "source": [
        "### 4. Set the random seed to `0` and do 2 & 3 over again.\n",
        "\n",
        "The output should be:\n",
        "```\n",
        "(tensor([[1.8542],\n",
        "         [1.9611],\n",
        "         [2.2884],\n",
        "         [3.0481],\n",
        "         [1.7067],\n",
        "         [2.5290],\n",
        "         [1.7989]]), torch.Size([7, 1]))\n",
        "```"
      ]
    },
    {
      "cell_type": "code",
      "execution_count": null,
      "metadata": {
        "id": "D-lOWI_1jRMm",
        "colab": {
          "base_uri": "https://localhost:8080/"
        },
        "outputId": "b9acc563-89e6-4cdc-aca5-018f6ef8bcbb"
      },
      "outputs": [
        {
          "output_type": "execute_result",
          "data": {
            "text/plain": [
              "tensor([[1.8542],\n",
              "        [1.9611],\n",
              "        [2.2884],\n",
              "        [3.0481],\n",
              "        [1.7067],\n",
              "        [2.5290],\n",
              "        [1.7989]])"
            ]
          },
          "metadata": {},
          "execution_count": 4
        }
      ],
      "source": [
        "# Set manual seed\n",
        "torch.manual_seed(0)\n",
        "\n",
        "\n",
        "# Create two random tensors\n",
        "x1_rand = torch.rand(7, 7)\n",
        "x2_rand = torch.rand(1, 7)\n",
        "\n",
        "\n",
        "# Matrix multiply tensors\n",
        "x = x1_rand @ x2_rand.T\n",
        "x\n"
      ]
    },
    {
      "cell_type": "markdown",
      "metadata": {
        "id": "ezY6ks9Cis37"
      },
      "source": [
        "### 5. Speaking of random seeds, we saw how to set it with `torch.manual_seed()` but is there a GPU equivalent? (hint: you'll need to look into the documentation for `torch.cuda` for this one)\n",
        "  * If there is, set the GPU random seed to `1234`."
      ]
    },
    {
      "cell_type": "code",
      "execution_count": null,
      "metadata": {
        "id": "_LKWcfSTjp00"
      },
      "outputs": [],
      "source": [
        "# Set random seed on the GPU\n",
        "seed_value = 1234\n",
        "if torch.cuda.is_available():\n",
        "    torch.cuda.manual_seed(seed_value)\n",
        "else:\n",
        "    print(\"CUDA is not available on this system.\")\n"
      ]
    },
    {
      "cell_type": "markdown",
      "metadata": {
        "id": "Ir9qSaj6it4n"
      },
      "source": [
        "\n",
        "### 6. Create two random tensors of shape `(2, 3)` and send them both to the GPU (you'll need access to a GPU for this). Set `torch.manual_seed(1234)` when creating the tensors (this doesn't have to be the GPU random seed). The output should be something like:\n",
        "\n",
        "```\n",
        "Device: cuda\n",
        "(tensor([[0.0290, 0.4019, 0.2598],\n",
        "         [0.3666, 0.0583, 0.7006]], device='cuda:0'),\n",
        " tensor([[0.0518, 0.4681, 0.6738],\n",
        "         [0.3315, 0.7837, 0.5631]], device='cuda:0'))\n",
        "```"
      ]
    },
    {
      "cell_type": "code",
      "execution_count": null,
      "metadata": {
        "id": "azXExiFZj5nm",
        "colab": {
          "base_uri": "https://localhost:8080/"
        },
        "outputId": "9072a2ef-7ff1-4c3f-9ede-85b1f49ab81b"
      },
      "outputs": [
        {
          "output_type": "stream",
          "name": "stdout",
          "text": [
            "Device: cuda\n",
            "(tensor([[0.1272, 0.8167, 0.5440],\n",
            "        [0.6601, 0.2721, 0.9737]], device='cuda:0'),\n",
            " tensor([[0.6208, 0.0276, 0.3255],\n",
            "        [0.1114, 0.6812, 0.3608]], device='cuda:0'))\n"
          ]
        }
      ],
      "source": [
        "# 1. Set the random seed\n",
        "torch.manual_seed(1234)\n",
        "\n",
        "# 2. Check for access to GPU and set the device\n",
        "if torch.cuda.is_available():\n",
        "    device = \"cuda\"\n",
        "    print(f\"Device: {device}\")\n",
        "else:\n",
        "    device = \"cpu\"\n",
        "    print(f\"CUDA not available. Using device: {device}\")\n",
        "    print(\"Note: The tensors will be created on the CPU, and the 'device' output will show 'cpu'.\")\n",
        "\n",
        "# 3. Create two random tensors on the determined device\n",
        "# Use .to(device) to ensure the tensor is created directly on the GPU if available\n",
        "tensor_A = torch.rand(2, 3, device=device)\n",
        "tensor_B = torch.rand(2, 3, device=device)\n",
        "\n",
        "# Output the result\n",
        "print(f\"({tensor_A},\\n {tensor_B})\")"
      ]
    },
    {
      "cell_type": "markdown",
      "metadata": {
        "id": "5TlAxeiSiu1y"
      },
      "source": [
        "\n",
        "### 7. Perform a matrix multiplication on the tensors you created in 6 (again, you may have to adjust the shapes of one of the tensors).\n",
        "\n",
        "The output should look like:\n",
        "```\n",
        "(tensor([[0.3647, 0.4709],\n",
        "         [0.5184, 0.5617]], device='cuda:0'), torch.Size([2, 2]))\n",
        "```"
      ]
    },
    {
      "cell_type": "code",
      "execution_count": null,
      "metadata": {
        "id": "fAeG7ox0lHEO",
        "colab": {
          "base_uri": "https://localhost:8080/"
        },
        "outputId": "e4a91ff5-9edb-4726-866b-c64a779123d5"
      },
      "outputs": [
        {
          "output_type": "execute_result",
          "data": {
            "text/plain": [
              "(tensor([[0.2786, 0.7668],\n",
              "         [0.7343, 0.6102]], device='cuda:0'),\n",
              " torch.Size([2, 2]))"
            ]
          },
          "metadata": {},
          "execution_count": 17
        }
      ],
      "source": [
        "# Perform matmul on tensor_A and tensor_B\n",
        "tensor = tensor_A @ tensor_B.T\n",
        "(tensor, tensor.size())"
      ]
    },
    {
      "cell_type": "markdown",
      "metadata": {
        "id": "G7qfa5CSivwg"
      },
      "source": [
        "### 8. Find the maximum and minimum values of the output of 7."
      ]
    },
    {
      "cell_type": "code",
      "execution_count": null,
      "metadata": {
        "id": "Fu8_3mZpllOd",
        "colab": {
          "base_uri": "https://localhost:8080/"
        },
        "outputId": "1c867095-97af-4990-f732-8890e4d48841"
      },
      "outputs": [
        {
          "output_type": "stream",
          "name": "stdout",
          "text": [
            "tensor(0.7668, device='cuda:0')\n",
            "tensor(0.2786, device='cuda:0')\n"
          ]
        }
      ],
      "source": [
        "# Find max\n",
        "max = tensor.max()\n",
        "print(max)\n",
        "\n",
        "# Find min\n",
        "min = tensor.min()\n",
        "print(min)"
      ]
    },
    {
      "cell_type": "markdown",
      "metadata": {
        "id": "wrTj5FgNiw47"
      },
      "source": [
        "### 9. Find the maximum and minimum index values of the output of 7."
      ]
    },
    {
      "cell_type": "code",
      "execution_count": null,
      "metadata": {
        "id": "CCEKt4K2lsfQ",
        "colab": {
          "base_uri": "https://localhost:8080/"
        },
        "outputId": "9e3ccdef-a061-4af8-b8ac-8f00c8cec112"
      },
      "outputs": [
        {
          "output_type": "stream",
          "name": "stdout",
          "text": [
            "tensor(1, device='cuda:0')\n",
            "tensor(0, device='cuda:0')\n"
          ]
        }
      ],
      "source": [
        "# Find arg max\n",
        "id_max = torch.argmax(tensor)\n",
        "print(id_max)\n",
        "\n",
        "# Find arg min\n",
        "id_min = torch.argmin(tensor)\n",
        "print(id_min)"
      ]
    },
    {
      "cell_type": "markdown",
      "metadata": {
        "id": "hmeybz4uixy7"
      },
      "source": [
        "\n",
        "### 10. Make a random tensor with shape `(1, 1, 1, 10)` and then create a new tensor with all the `1` dimensions removed to be left with a tensor of shape `(10)`. Set the seed to `7` when you create it and print out the first tensor and it's shape as well as the second tensor and it's shape.\n",
        "\n",
        "The output should look like:\n",
        "\n",
        "```\n",
        "tensor([[[[0.5349, 0.1988, 0.6592, 0.6569, 0.2328, 0.4251, 0.2071, 0.6297,\n",
        "           0.3653, 0.8513]]]]) torch.Size([1, 1, 1, 10])\n",
        "tensor([0.5349, 0.1988, 0.6592, 0.6569, 0.2328, 0.4251, 0.2071, 0.6297, 0.3653,\n",
        "        0.8513]) torch.Size([10])\n",
        "```"
      ]
    },
    {
      "cell_type": "code",
      "source": [
        "\"\"\"\n",
        "A dimension with a size of 1 (like the first three dimensions in our (1, 1, 1, 10) tensor) is called a singleton dimension.\n",
        "Purpose:\n",
        "- Singleton dimensions are often introduced when you Add a batch dimension:\n",
        "  For example, converting a (3, 224, 224) image to a (1, 3, 224, 224) tensor for a neural network.\n",
        "- Perform specific operations: Like taking the mean over a single dimension while keeping that dimension in the output (using keepdim=True).\n",
        "- Need a specific rank/number of dimensions: To match an input requirement for another function.\n",
        "\n",
        "Effect: They don't change the total number of elements in the tensor (it's still $1 \\times 1 \\times 1 \\times 10 = 10$ elements), but they do change the tensor's rank (the number of dimensions).\n",
        "\"\"\"\n",
        "\n",
        "# 1. Set the seed\n",
        "torch.manual_seed(7)\n",
        "\n",
        "# 2. Create the first tensor\n",
        "tensor_4d = torch.rand(1, 1, 1, 10)\n",
        "\n",
        "# 3. Create the second tensor by removing singleton dimensions\n",
        "tensor_1d = tensor_4d.squeeze() # squeeze() returns a tensor with all the dimensions of size 1 removed.\n",
        "\n",
        "# 4. Print out tensors and their shapes\n",
        "print(tensor_4d, tensor_4d.shape)\n",
        "print(tensor_1d, tensor_1d.shape)"
      ],
      "metadata": {
        "colab": {
          "base_uri": "https://localhost:8080/"
        },
        "id": "LMA-57H5ujLU",
        "outputId": "56b7f05c-ef93-42b2-f521-6789246fcf62"
      },
      "execution_count": null,
      "outputs": [
        {
          "output_type": "stream",
          "name": "stdout",
          "text": [
            "tensor([[[[0.5349, 0.1988, 0.6592, 0.6569, 0.2328, 0.4251, 0.2071, 0.6297,\n",
            "           0.3653, 0.8513]]]]) torch.Size([1, 1, 1, 10])\n",
            "tensor([0.5349, 0.1988, 0.6592, 0.6569, 0.2328, 0.4251, 0.2071, 0.6297, 0.3653,\n",
            "        0.8513]) torch.Size([10])\n"
          ]
        }
      ]
    }
  ],
  "metadata": {
    "accelerator": "GPU",
    "colab": {
      "provenance": []
    },
    "kernelspec": {
      "display_name": "Python 3 (ipykernel)",
      "language": "python",
      "name": "python3"
    },
    "language_info": {
      "codemirror_mode": {
        "name": "ipython",
        "version": 3
      },
      "file_extension": ".py",
      "mimetype": "text/x-python",
      "name": "python",
      "nbconvert_exporter": "python",
      "pygments_lexer": "ipython3",
      "version": "3.9.16"
    }
  },
  "nbformat": 4,
  "nbformat_minor": 0
}